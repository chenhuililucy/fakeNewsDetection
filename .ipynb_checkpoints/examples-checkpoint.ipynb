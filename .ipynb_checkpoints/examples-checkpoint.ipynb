{
 "cells": [
  {
   "cell_type": "code",
   "execution_count": 5,
   "id": "3e7bc5dc-000f-4f6a-b01f-6b31f051b77d",
   "metadata": {},
   "outputs": [
    {
     "name": "stdout",
     "output_type": "stream",
     "text": [
      "Collecting fake articles...\n",
      "Collected 4947 fake articles.\n",
      "Collecting real articles...\n",
      "Collected 15420 real articles.\n"
     ]
    },
    {
     "ename": "NameError",
     "evalue": "name 'ExternalAgent' is not defined",
     "output_type": "error",
     "traceback": [
      "\u001b[0;31m---------------------------------------------------------------------------\u001b[0m",
      "\u001b[0;31mNameError\u001b[0m                                 Traceback (most recent call last)",
      "Cell \u001b[0;32mIn[5], line 30\u001b[0m\n\u001b[1;32m     27\u001b[0m real_articles \u001b[38;5;241m=\u001b[39m collect_articles(base_real)\n\u001b[1;32m     28\u001b[0m \u001b[38;5;28mprint\u001b[39m(\u001b[38;5;124mf\u001b[39m\u001b[38;5;124m\"\u001b[39m\u001b[38;5;124mCollected \u001b[39m\u001b[38;5;132;01m{\u001b[39;00m\u001b[38;5;28mlen\u001b[39m(real_articles)\u001b[38;5;132;01m}\u001b[39;00m\u001b[38;5;124m real articles.\u001b[39m\u001b[38;5;124m\"\u001b[39m)\n\u001b[0;32m---> 30\u001b[0m agent \u001b[38;5;241m=\u001b[39m \u001b[43mExternalAgent\u001b[49m()\n\u001b[1;32m     32\u001b[0m \u001b[38;5;28;01mfor\u001b[39;00m label, articles \u001b[38;5;129;01min\u001b[39;00m [(\u001b[38;5;124m\"\u001b[39m\u001b[38;5;124mFake\u001b[39m\u001b[38;5;124m\"\u001b[39m, fake_articles), (\u001b[38;5;124m\"\u001b[39m\u001b[38;5;124mReal\u001b[39m\u001b[38;5;124m\"\u001b[39m, real_articles)]:\n\u001b[1;32m     33\u001b[0m     \u001b[38;5;28mprint\u001b[39m(\u001b[38;5;124mf\u001b[39m\u001b[38;5;124m\"\u001b[39m\u001b[38;5;130;01m\\n\u001b[39;00m\u001b[38;5;124mValidating \u001b[39m\u001b[38;5;132;01m{\u001b[39;00mlabel\u001b[38;5;132;01m}\u001b[39;00m\u001b[38;5;124m articles:\u001b[39m\u001b[38;5;124m\"\u001b[39m)\n",
      "\u001b[0;31mNameError\u001b[0m: name 'ExternalAgent' is not defined"
     ]
    }
   ],
   "source": [
    "import os\n",
    "import json\n",
    "from src.agents.externalAgent import ExternalAgent\n",
    "\n",
    "base_fake = \"data/Archive/GOSSIPCOP/fake\"\n",
    "base_real = \"data/Archive/GOSSIPCOP/real\"\n",
    "\n",
    "def collect_articles(base_dir):\n",
    "    articles = []\n",
    "    for root, dirs, files in os.walk(base_dir):\n",
    "        if \"news content.json\" in files:\n",
    "            json_path = os.path.join(root, \"news content.json\")\n",
    "            try:\n",
    "                with open(json_path, \"r\", encoding=\"utf-8\") as f:\n",
    "                    data = json.load(f)\n",
    "                    if \"text\" in data:\n",
    "                        articles.append(data)\n",
    "            except Exception as e:\n",
    "                print(f\"Error reading {json_path}: {e}\")\n",
    "    return articles\n",
    "\n",
    "\n",
    "print(\"Collecting fake articles...\")\n",
    "fake_articles = collect_articles(base_fake)\n",
    "print(f\"Collected {len(fake_articles)} fake articles.\")\n",
    "\n",
    "print(\"Collecting real articles...\")\n",
    "real_articles = collect_articles(base_real)\n",
    "print(f\"Collected {len(real_articles)} real articles.\")\n",
    "\n",
    "agent = ExternalAgent()\n",
    "\n",
    "for label, articles in [(\"Fake\", fake_articles), (\"Real\", real_articles)]:\n",
    "    print(f\"\\nValidating {label} articles:\")\n",
    "    for i, article in enumerate(articles[:5]):  # Limit to 5 for demo\n",
    "        print(f\"\\n[{label} Article {i + 1}]\")\n",
    "        try:\n",
    "            result = agent.analyze_news_article(article)\n",
    "            print(\"Generated Question:\", result[\"generated_question\"])\n",
    "            print(\"Validation Result:\", result[\"validation_result\"])\n",
    "        except Exception as e:\n",
    "            print(f\"Error analyzing article {i + 1}: {e}\")\n"
   ]
  },
  {
   "cell_type": "code",
   "execution_count": null,
   "id": "bd0ae1ae-7d08-4583-965f-8d8d22749541",
   "metadata": {},
   "outputs": [],
   "source": []
  }
 ],
 "metadata": {
  "kernelspec": {
   "display_name": "Python 3 (ipykernel)",
   "language": "python",
   "name": "python3"
  },
  "language_info": {
   "codemirror_mode": {
    "name": "ipython",
    "version": 3
   },
   "file_extension": ".py",
   "mimetype": "text/x-python",
   "name": "python",
   "nbconvert_exporter": "python",
   "pygments_lexer": "ipython3",
   "version": "3.10.9"
  }
 },
 "nbformat": 4,
 "nbformat_minor": 5
}
